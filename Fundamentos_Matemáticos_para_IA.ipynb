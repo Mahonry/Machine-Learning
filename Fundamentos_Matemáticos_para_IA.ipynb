{
  "nbformat": 4,
  "nbformat_minor": 0,
  "metadata": {
    "colab": {
      "name": "Fundamentos Matemáticos para IA.ipynb",
      "provenance": [],
      "authorship_tag": "ABX9TyNjvCfK59gTQOd8rCOgEgSp",
      "include_colab_link": true
    },
    "kernelspec": {
      "name": "python3",
      "display_name": "Python 3"
    }
  },
  "cells": [
    {
      "cell_type": "markdown",
      "metadata": {
        "id": "view-in-github",
        "colab_type": "text"
      },
      "source": [
        "<a href=\"https://colab.research.google.com/github/Mahonry/Machine-Learning/blob/master/Fundamentos_Matem%C3%A1ticos_para_IA.ipynb\" target=\"_parent\"><img src=\"https://colab.research.google.com/assets/colab-badge.svg\" alt=\"Open In Colab\"/></a>"
      ]
    },
    {
      "cell_type": "code",
      "metadata": {
        "id": "_YF9clAN8b9c",
        "colab_type": "code",
        "colab": {}
      },
      "source": [
        "import numpy as np\n",
        "import matplotlib.pyplot as plt\n",
        "\n",
        "from sklearn.linear_model import LogisticRegression\n",
        "from sklearn import svm\n",
        "from sklearn.datasets import make_blobs\n",
        "%matplotlib inline"
      ],
      "execution_count": 0,
      "outputs": []
    },
    {
      "cell_type": "markdown",
      "metadata": {
        "id": "rb8MPXJM-srg",
        "colab_type": "text"
      },
      "source": [
        "# Regresion Logistica\n",
        "_______________________________________"
      ]
    },
    {
      "cell_type": "code",
      "metadata": {
        "id": "nNPWd9E4-wd_",
        "colab_type": "code",
        "colab": {}
      },
      "source": [
        "x = np.array([0.5, 0.75, 1, 1.25, 1.5, 1.75, 1.75, 2, 2.25, 2.5, 2.75, 3, 3.25, 3.5, 4, 4.25, 4.5, 4.75, 5, 5.5]).reshape(-1,1)\n",
        "y = np.array([0, 0, 0, 0, 0, 0, 1, 0, 1, 0, 1, 0, 1, 0, 1, 1, 1, 1, 1, 1])"
      ],
      "execution_count": 0,
      "outputs": []
    },
    {
      "cell_type": "code",
      "metadata": {
        "id": "T-kx5aK5_a1-",
        "colab_type": "code",
        "colab": {}
      },
      "source": [
        "regresion_logistica = LogisticRegression()"
      ],
      "execution_count": 0,
      "outputs": []
    },
    {
      "cell_type": "code",
      "metadata": {
        "id": "8QWCcGZUC_6C",
        "colab_type": "code",
        "colab": {}
      },
      "source": [
        "regresion_logistica.fit(x,y)\n",
        "x_nuevo = np.array([1,2,3,4,5,6]).reshape(-1,1)"
      ],
      "execution_count": 0,
      "outputs": []
    },
    {
      "cell_type": "code",
      "metadata": {
        "id": "foVLeCEoDg1f",
        "colab_type": "code",
        "colab": {
          "base_uri": "https://localhost:8080/",
          "height": 34
        },
        "outputId": "b00ec31f-3641-4774-a3a0-fafddb0ee256"
      },
      "source": [
        "prediccion = regresion_logistica.predict(x_nuevo)\n",
        "prediccion "
      ],
      "execution_count": 7,
      "outputs": [
        {
          "output_type": "execute_result",
          "data": {
            "text/plain": [
              "array([0, 0, 1, 1, 1, 1])"
            ]
          },
          "metadata": {
            "tags": []
          },
          "execution_count": 7
        }
      ]
    },
    {
      "cell_type": "code",
      "metadata": {
        "id": "wFS2Bq5fDqEW",
        "colab_type": "code",
        "colab": {
          "base_uri": "https://localhost:8080/",
          "height": 119
        },
        "outputId": "ef977ae9-0678-40af-cecc-3083ec3e05a4"
      },
      "source": [
        "probabilidades_prediction = regresion_logistica.predict_proba(x_nuevo)\n",
        "probabilidades_prediction"
      ],
      "execution_count": 11,
      "outputs": [
        {
          "output_type": "execute_result",
          "data": {
            "text/plain": [
              "array([[0.6801015 , 0.3198985 ],\n",
              "       [0.53568295, 0.46431705],\n",
              "       [0.38502138, 0.61497862],\n",
              "       [0.25359079, 0.74640921],\n",
              "       [0.15566862, 0.84433138],\n",
              "       [0.09095092, 0.90904908]])"
            ]
          },
          "metadata": {
            "tags": []
          },
          "execution_count": 11
        }
      ]
    },
    {
      "cell_type": "markdown",
      "metadata": {
        "id": "7dw_Vtv4EdWF",
        "colab_type": "text"
      },
      "source": [
        "# Support Vector Machine\n",
        "__________________________________________"
      ]
    },
    {
      "cell_type": "code",
      "metadata": {
        "id": "8GYupkMXD0OW",
        "colab_type": "code",
        "colab": {}
      },
      "source": [
        "X, y = make_blobs(n_samples=100, centers=2, random_state=6)"
      ],
      "execution_count": 0,
      "outputs": []
    },
    {
      "cell_type": "code",
      "metadata": {
        "id": "V8mE3ci7GKHW",
        "colab_type": "code",
        "colab": {
          "base_uri": "https://localhost:8080/",
          "height": 85
        },
        "outputId": "2a1f74d9-44e4-4f92-f68f-d1faea0e4b61"
      },
      "source": [
        "clf = svm.SVC(kernel='linear', C = 1000)\n",
        "clf.fit(X,y)"
      ],
      "execution_count": 27,
      "outputs": [
        {
          "output_type": "execute_result",
          "data": {
            "text/plain": [
              "SVC(C=1000, cache_size=200, class_weight=None, coef0=0.0,\n",
              "  decision_function_shape='ovr', degree=3, gamma='auto_deprecated',\n",
              "  kernel='linear', max_iter=-1, probability=False, random_state=None,\n",
              "  shrinking=True, tol=0.001, verbose=False)"
            ]
          },
          "metadata": {
            "tags": []
          },
          "execution_count": 27
        }
      ]
    },
    {
      "cell_type": "code",
      "metadata": {
        "id": "Oh2ZwC90GtI9",
        "colab_type": "code",
        "colab": {
          "base_uri": "https://localhost:8080/",
          "height": 316
        },
        "outputId": "181c6db0-5906-4c8d-bbad-c32539c26d92"
      },
      "source": [
        "plt.scatter(X[:,0],X[:,1], c = y, s = 30, cmap = plt.cm.Paired)\n",
        "\n",
        "ax = plt.gca()\n",
        "xlim = ax.get_xlim()\n",
        "ylim = ax.get_ylim()\n",
        "\n",
        "xx = np.linspace(xlim[0], xlim[1], 30)\n",
        "yy = np.linspace(ylim[0], ylim[1], 30)\n",
        "YY, XX = np.meshgrid(yy,xx)\n",
        "xy = np.vstack([XX.ravel(), YY.ravel()]).T\n",
        "Z = clf.decision_function(xy).reshape(XX.shape)\n",
        "\n",
        "ax.contour(XX, YY, Z, colors='g', levels =[-1,0,1], alpha = 0.5, linestyle=['-.','.','-.'])\n",
        "ax.scatter(clf.support_vectors_[:,0], clf.support_vectors_[:,1], s = 100, linewidth = 1, facecolors = 'none')"
      ],
      "execution_count": 28,
      "outputs": [
        {
          "output_type": "stream",
          "text": [
            "/usr/local/lib/python3.6/dist-packages/ipykernel_launcher.py:13: UserWarning: The following kwargs were not used by contour: 'linestyle'\n",
            "  del sys.path[0]\n"
          ],
          "name": "stderr"
        },
        {
          "output_type": "execute_result",
          "data": {
            "text/plain": [
              "<matplotlib.collections.PathCollection at 0x7f2a6fdbd7f0>"
            ]
          },
          "metadata": {
            "tags": []
          },
          "execution_count": 28
        },
        {
          "output_type": "display_data",
          "data": {
            "image/png": "[encoded data removed]",
            "text/plain": [
              "<Figure size 432x288 with 1 Axes>"
            ]
          },
          "metadata": {
            "tags": [],
            "needs_background": "light"
          }
        }
      ]
    },
    {
      "cell_type": "code",
      "metadata": {
        "id": "2NfgixjhKh-x",
        "colab_type": "code",
        "colab": {}
      },
      "source": [
        ""
      ],
      "execution_count": 0,
      "outputs": []
    }
  ]
}